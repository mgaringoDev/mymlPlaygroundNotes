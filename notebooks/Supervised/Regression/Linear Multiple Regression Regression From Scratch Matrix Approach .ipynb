{
 "cells": [
  {
   "cell_type": "markdown",
   "metadata": {},
   "source": [
    "REF:\n",
    "- articles\n",
    "    - [1](https://towardsdatascience.com/linear-regression-from-scratch-cd0dee067f72)\n",
    "    - [2](https://towardsdatascience.com/linear-regression-from-scratch-with-numpy-implementation-finally-8e617d8e274c)\n",
    "    \n",
    "- videos\n",
    "    - [Coding Train](https://www.youtube.com/watch?v=L-Lsfu4ab74)\n",
    "    - [Linear Regression and Multiple Regression](https://www.youtube.com/watch?v=K_EH2abOp00)\n",
    "    \n",
    "    \n",
    "TODO:\n",
    "- Gradient Descent\n",
    "    - [Linear regression gradient descent](https://www.youtube.com/watch?v=WnqQrPNYz5Q)\n",
    "    "
   ]
  },
  {
   "cell_type": "markdown",
   "metadata": {},
   "source": [
    "# Linear"
   ]
  },
  {
   "cell_type": "markdown",
   "metadata": {},
   "source": [
    "Recall that linear regression fits a model in the form:\n",
    "\n",
    "$$ y=mx+b $$\n",
    "\n",
    "or \n",
    "\n",
    "$$y=a0+a1x1+a2x2+a3x3+...+anxn$$"
   ]
  },
  {
   "cell_type": "markdown",
   "metadata": {},
   "source": [
    "There are multiple ways of finding these coefficients by let us use **Ordinary Least Mean Square** approach.  The goal is finding a function with coefficients that minimize the error of our model. This line is the best fit that passes through most of the scatter points and also reduces error which is the distance from the point to the line itself.\n",
    "\n",
    "The total error of the model is the sum of the error of each point\n",
    "\n",
    "$$\\sum_{n}^{i=1}r_i^2$$\n",
    "\n",
    "where **r** are the distances between the line and the ith point.\n",
    "\n",
    "The squaring procedure is to remove the ambiguity of the points being above or below the decision line.  We need to minimize the error or distances between the point and the line.\n",
    "\n",
    "$$\\beta_i = \\frac{\\sum_{i}(x_i-\\bar{x})(y_i-\\bar{y})}{\\sum_{i}(x_i-\\bar{x})^2} = m$$\n",
    "\n",
    "This gets the slope of the regression line.  To find the bias you need to place it in equation 1 with x and y being the mean of the data points and solving for the bias.\n",
    "\n",
    "$$\\hat{\\beta}_0 = \\bar{y} - \\bar{\\beta}\\bar{x}$$\n",
    "OR\n",
    "$$bias = \\bar{y} - m\\bar{x}$$\n",
    "\n"
   ]
  },
  {
   "cell_type": "markdown",
   "metadata": {},
   "source": [
    "**In the previous section it was easier to see how the algorithm works each step and how they are calculated.  In this section we will use matrices instead and dot products to make our calculations easier and faster.**"
   ]
  },
  {
   "cell_type": "markdown",
   "metadata": {},
   "source": [
    "# Imports"
   ]
  },
  {
   "cell_type": "code",
   "execution_count": 2,
   "metadata": {},
   "outputs": [],
   "source": [
    "import numpy as np\n",
    "from sklearn.datasets import load_boston\n",
    "import matplotlib.pyplot as plt"
   ]
  },
  {
   "cell_type": "markdown",
   "metadata": {},
   "source": [
    "# I/O"
   ]
  },
  {
   "cell_type": "markdown",
   "metadata": {},
   "source": [
    "This dataset is called **Boston house prices dataset** from sklearn."
   ]
  },
  {
   "cell_type": "markdown",
   "metadata": {},
   "source": [
    "The information about the dataset can be found [here](https://scikit-learn.org/stable/datasets/index.html#boston-dataset)"
   ]
  },
  {
   "cell_type": "markdown",
   "metadata": {},
   "source": [
    "| Number of Instances | 506 |\n",
    "|----------------------|---------------------------------------------------------------------------------------|\n",
    "| Number of Attributes | 13 |\n"
   ]
  },
  {
   "cell_type": "markdown",
   "metadata": {},
   "source": [
    "Features\n",
    "- CRIM per capita crime rate by town\n",
    "- ZN proportion of residential land zoned for lots over 25,000 sq.ft.\n",
    "- INDUS proportion of non-retail business acres per town\n",
    "- CHAS Charles River dummy variable (= 1 if tract bounds river; 0 otherwise)\n",
    "- NOX nitric oxides concentration (parts per 10 million)\n",
    "- RM average number of rooms per dwelling\n",
    "- AGE proportion of owner-occupied units built prior to 1940\n",
    "- DIS weighted distances to five Boston employment centres\n",
    "- RAD index of accessibility to radial highways\n",
    "- TAX full-value property-tax rate per 10,000\n",
    "- PTRATIO pupil-teacher ratio by town\n",
    "- B 1000(Bk - 0.63)^2 where Bk is the proportion of blacks by town\n",
    "- LSTAT % lower status of the population\n",
    "- MEDV Median value of owner-occupied homes in 1000"
   ]
  },
  {
   "cell_type": "code",
   "execution_count": 3,
   "metadata": {},
   "outputs": [
    {
     "name": "stdout",
     "output_type": "stream",
     "text": [
      "Total samples in our dataset is: 506 and contains 13 features\n",
      "X type =<class 'numpy.ndarray'>\n",
      "y type = <class 'numpy.ndarray'> \n"
     ]
    }
   ],
   "source": [
    "dataset = load_boston()\n",
    "\n",
    "# Features of the houses\n",
    "X = dataset.data\n",
    "# Price of the houses\n",
    "y = dataset.target[:,np.newaxis]\n",
    "\n",
    "print(\"Total samples in our dataset is: {} and contains {} features\".format(X.shape[0],X.shape[1]))\n",
    "print(\"X type ={}\\ny type = {} \".format(type(X),type(y)))"
   ]
  },
  {
   "cell_type": "markdown",
   "metadata": {},
   "source": [
    "The dataset are numpy arrays so let us treat them that way instead of python lists."
   ]
  },
  {
   "cell_type": "markdown",
   "metadata": {},
   "source": [
    "# Main Algo Matrix Approach"
   ]
  },
  {
   "cell_type": "markdown",
   "metadata": {},
   "source": [
    "In the notes we use the RSS for the computation of residuals.  This makes the derivate calculations a little bit easier to see.  But for the purpose of this demonstration we use the MSE similar to the linear regression example.  We can take this further and also use the coefficient of Determination.  These are just various cost functions to identify the residuals.  Its these residuals we want to minimize using gradient decent."
   ]
  },
  {
   "cell_type": "code",
   "execution_count": 4,
   "metadata": {},
   "outputs": [],
   "source": [
    "def compute_cost(X, y, params):\n",
    "    n_samples = len(y)\n",
    "    h = X @ params\n",
    "    return (1/(2*n_samples))*np.sum((h-y)**2)"
   ]
  },
  {
   "cell_type": "code",
   "execution_count": 5,
   "metadata": {},
   "outputs": [],
   "source": [
    "def gradient_descent(X, y, params, learning_rate, n_iters):\n",
    "    n_samples = len(y)\n",
    "    J_history = np.zeros((n_iters,1))\n",
    "\n",
    "    for i in range(n_iters):\n",
    "        params = params - (learning_rate/n_samples) * X.T @ (X @ params - y) \n",
    "        J_history[i] = compute_cost(X, y, params)\n",
    "\n",
    "    return (J_history, params)"
   ]
  },
  {
   "cell_type": "code",
   "execution_count": 11,
   "metadata": {},
   "outputs": [],
   "source": [
    "# This will be a genera\n",
    "def calcResiduals(X,y,B,costType='mse'):\n",
    "    args = {'features':X,'outputs':y,'coefficients':B}\n",
    "    if costType == 'mse':\n",
    "        residuals = calcMSE(args)\n",
    "    else:\n",
    "        print('So cost type = {}'.format(costType))\n",
    "        return False\n",
    "    return residuals"
   ]
  },
  {
   "cell_type": "code",
   "execution_count": 13,
   "metadata": {},
   "outputs": [],
   "source": [
    "def calcMSE(argsMSE):\n",
    "    # get variables\n",
    "    X = argsMSE['features']\n",
    "    y = argsMSE['outputs']\n",
    "    B = argsMSE['coefficients']\n",
    "    \n",
    "    # by applying the dot product we are essesntially implying regression\n",
    "    # note that we don't have to add b0 here for the bias like in the previous \n",
    "    # example rather we are placing that in the X as its own coloumns\n",
    "    n = len(y)\n",
    "    yHat = X.dot(B)\n",
    "    \n",
    "    mse = (1/(2*n))*np.sum((y-yHat)**2)\n",
    "    \n",
    "    return mse    "
   ]
  },
  {
   "cell_type": "code",
   "execution_count": null,
   "metadata": {},
   "outputs": [],
   "source": [
    "def MYgradient_descent(X, y, B, learning_rate, n_iters,costType='mse'):\n",
    "    nSamples = len(y)\n",
    "    Jhistory = np.zeros((n_iters,1))\n",
    "\n",
    "    for i in range(n_iters):\n",
    "        B = B - (learning_rate/nSamples) * X.T.dot((X.dot(B) - y)) \n",
    "        J_history[i] = calcResiduals(X, y, B,costTypeype)\n",
    "\n",
    "    return (J_history, params)"
   ]
  },
  {
   "cell_type": "code",
   "execution_count": 32,
   "metadata": {},
   "outputs": [],
   "source": [
    "def gradientDescent(X, y, B, learning_rate=1, n_iters=1,costType='mse'):    \n",
    "    nSamples = len(y)\n",
    "    Jhistory = np.zeros((n_iters,1))\n",
    "    Jcurrent = 0    \n",
    "    Jpreviouse = 0\n",
    "    \n",
    "    # go through each iteration of gradient decent for a specific number of iterations or until the differences between \n",
    "    # each subsequent gradient is small enough to say that it has stablized.\n",
    "    for i in range(n_iters):\n",
    "        B = B - (learning_rate/nSamples) * X.T.dot((X.dot(B) - y)) \n",
    "        Jhistory[i] = compute_cost(X, y, B)\n",
    "        if i>1:            \n",
    "            diff = Jhistory[i]-Jhistory[i-1]\n",
    "            diff = np.abs(diff)            \n",
    "            if(diff[0]<0.001):                                 \n",
    "                print('Found stability at iteration:{}'.format(i))\n",
    "                break\n",
    "            else:\n",
    "                continue\n",
    "\n",
    "    return (Jhistory, B)"
   ]
  },
  {
   "cell_type": "code",
   "execution_count": 35,
   "metadata": {},
   "outputs": [],
   "source": [
    "def myGradientDescent(X, y, B, learningRate=1, n_iters=1,costType='mse'):    \n",
    "    nSamples = len(y)\n",
    "    Jhistory = np.zeros((n_iters,1))\n",
    "    Jcurrent = 0    \n",
    "    Jpreviouse = 0\n",
    "    \n",
    "    # go through each iteration of gradient decent for a specific number of iterations or until the differences between \n",
    "    # each subsequent gradient is small enough to say that it has stablized.\n",
    "    for i in range(n_iters):\n",
    "        # calculate residuals\n",
    "        e = y-np.dot(X,B)\n",
    "        # calculate DJ or gradient of the cost function MSE\n",
    "        DJ = -2/nSamples * np.dot(X.T,e)        \n",
    "        # update B by taking a step in the negative DJ direction.  Note step here is the learning rate\n",
    "        B = B - learningRate*DJ\n",
    "        \n",
    "        # calculate and store the gradient history               \n",
    "        #B = B - (learningRate/nSamples) * X.T.dot((X.dot(B) - y)) \n",
    "        Jhistory[i] = compute_cost(X, y, B)\n",
    "        if i>1:            \n",
    "            diff = Jhistory[i]-Jhistory[i-1]\n",
    "            diff = np.abs(diff)            \n",
    "            if(diff[0]<0.001):                                 \n",
    "                print('Found stability at iteration:{}'.format(i))\n",
    "                break\n",
    "            else:\n",
    "                continue\n",
    "\n",
    "    return (Jhistory, B)"
   ]
  },
  {
   "cell_type": "markdown",
   "metadata": {},
   "source": [
    "## Inits"
   ]
  },
  {
   "cell_type": "code",
   "execution_count": 9,
   "metadata": {},
   "outputs": [],
   "source": [
    "# Get length of data\n",
    "nSamples  = len(y)\n",
    "\n",
    "# Get normalization\n",
    "mu = np.mean(X, 0)\n",
    "sigma = np.std(X, 0)\n",
    "X = (X-mu) / sigma \n",
    "# You add a coloumn of ones here for the bias term.  \n",
    "# In the notes this is because it should be a nx(p+1) matrix\n",
    "X = np.hstack((np.ones((nSamples,1)),X))\n",
    "\n",
    "# Get number of features\n",
    "n_features = np.size(X,1)\n",
    "# intialize the parameters to 0\n",
    "# these are the coefficients of the model to find\n",
    "params = np.zeros((n_features,1)) "
   ]
  },
  {
   "cell_type": "code",
   "execution_count": 33,
   "metadata": {},
   "outputs": [
    {
     "name": "stdout",
     "output_type": "stream",
     "text": [
      "Found stability at iteration:528\n"
     ]
    }
   ],
   "source": [
    "n_iters = 1500\n",
    "learning_rate = 0.01\n",
    "\n",
    "initial_cost = calcResiduals(X, y, params,costType='mse')\n",
    "\n",
    "(Jhistory, optimalparams) = gradientDescent(X, y, params, \n",
    "                                              learning_rate=0.01, \n",
    "                                              n_iters=1000)"
   ]
  },
  {
   "cell_type": "code",
   "execution_count": 38,
   "metadata": {},
   "outputs": [
    {
     "name": "stdout",
     "output_type": "stream",
     "text": [
      "Found stability at iteration:360\n"
     ]
    }
   ],
   "source": [
    "n_iters = 1500\n",
    "learning_rate = 0.01\n",
    "\n",
    "initial_cost = calcResiduals(X, y, params,costType='mse')\n",
    "\n",
    "(myJhistory, myOptimalParams) = myGradientDescent(X, y, params, \n",
    "                                              learningRate=0.01, \n",
    "                                              n_iters=1000)"
   ]
  },
  {
   "cell_type": "code",
   "execution_count": 39,
   "metadata": {},
   "outputs": [
    {
     "data": {
      "image/png": "[encoded data removed]",
      "text/plain": [
       "<Figure size 432x288 with 1 Axes>"
      ]
     },
     "metadata": {
      "needs_background": "light"
     },
     "output_type": "display_data"
    }
   ],
   "source": [
    "plt.plot(range(len(myJhistory)), myJhistory, 'r')\n",
    "\n",
    "plt.title(\"Convergence Graph of Cost Function\")\n",
    "plt.xlabel(\"Number of Iterations\")\n",
    "plt.ylabel(\"Cost\")\n",
    "plt.show()"
   ]
  },
  {
   "cell_type": "code",
   "execution_count": 40,
   "metadata": {},
   "outputs": [
    {
     "name": "stdout",
     "output_type": "stream",
     "text": [
      "Initial cost is:  296.0734584980237 \n",
      "\n",
      "Optimal parameters are: \n",
      " [[22.51748033]\n",
      " [-0.73015917]\n",
      " [ 0.70595264]\n",
      " [-0.33187158]\n",
      " [ 0.75607696]\n",
      " [-1.33223785]\n",
      " [ 3.00377771]\n",
      " [-0.13608087]\n",
      " [-2.49080621]\n",
      " [ 1.19738595]\n",
      " [-0.69184228]\n",
      " [-1.90485269]\n",
      " [ 0.88784068]\n",
      " [-3.57220119]] \n",
      "\n",
      "Final cost is:[11.17995531].  Note that the gradient decent exited at the 528th due to stability of the cost \n"
     ]
    }
   ],
   "source": [
    "print(\"Initial cost is: \", initial_cost, \"\\n\")\n",
    "\n",
    "print(\"Optimal parameters are: \\n\", myOptimalParams, \"\\n\")\n",
    "\n",
    "print(\"Final cost is:{}.  Note that the gradient decent exited at the 528th due to stability of the cost \".format(myJhistory[360]))\n"
   ]
  },
  {
   "cell_type": "markdown",
   "metadata": {},
   "source": [
    "## Plotting"
   ]
  },
  {
   "cell_type": "code",
   "execution_count": 24,
   "metadata": {},
   "outputs": [
    {
     "data": {
      "image/png": "[encoded data removed]",
      "text/plain": [
       "<Figure size 432x288 with 1 Axes>"
      ]
     },
     "metadata": {
      "needs_background": "light"
     },
     "output_type": "display_data"
    }
   ],
   "source": [
    "plt.plot(range(len(Jhistory)), Jhistory, 'r')\n",
    "\n",
    "plt.title(\"Convergence Graph of Cost Function\")\n",
    "plt.xlabel(\"Number of Iterations\")\n",
    "plt.ylabel(\"Cost\")\n",
    "plt.show()"
   ]
  },
  {
   "cell_type": "code",
   "execution_count": 34,
   "metadata": {},
   "outputs": [
    {
     "name": "stdout",
     "output_type": "stream",
     "text": [
      "Initial cost is:  296.0734584980237 \n",
      "\n",
      "Optimal parameters are: \n",
      " [[22.42218643]\n",
      " [-0.68527522]\n",
      " [ 0.60915784]\n",
      " [-0.37457832]\n",
      " [ 0.77560015]\n",
      " [-1.08946985]\n",
      " [ 3.12220715]\n",
      " [-0.1536729 ]\n",
      " [-2.21480668]\n",
      " [ 0.96931228]\n",
      " [-0.55580223]\n",
      " [-1.85609937]\n",
      " [ 0.89441458]\n",
      " [-3.47435372]] \n",
      "\n",
      "Final cost is:[11.31381349].  Note that the gradient decent exited at the 528th due to stability of the cost \n"
     ]
    }
   ],
   "source": [
    "print(\"Initial cost is: \", initial_cost, \"\\n\")\n",
    "\n",
    "print(\"Optimal parameters are: \\n\", optimalparams, \"\\n\")\n",
    "\n",
    "print(\"Final cost is:{}.  Note that the gradient decent exited at the 528th due to stability of the cost \".format(Jhistory[528]))\n"
   ]
  }
 ],
 "metadata": {
  "kernelspec": {
   "display_name": "mlPlaygroundPy36",
   "language": "python",
   "name": "mlplaygroundpy36"
  },
  "language_info": {
   "codemirror_mode": {
    "name": "ipython",
    "version": 3
   },
   "file_extension": ".py",
   "mimetype": "text/x-python",
   "name": "python",
   "nbconvert_exporter": "python",
   "pygments_lexer": "ipython3",
   "version": "3.6.6"
  },
  "latex_envs": {
   "LaTeX_envs_menu_present": true,
   "autoclose": false,
   "autocomplete": true,
   "bibliofile": "biblio.bib",
   "cite_by": "apalike",
   "current_citInitial": 1,
   "eqLabelWithNumbers": true,
   "eqNumInitial": 1,
   "hotkeys": {
    "equation": "Ctrl-E",
    "itemize": "Ctrl-I"
   },
   "labels_anchors": false,
   "latex_user_defs": false,
   "report_style_numbering": false,
   "user_envs_cfg": false
  }
 },
 "nbformat": 4,
 "nbformat_minor": 4
}
